{
 "cells": [
  {
   "cell_type": "code",
   "execution_count": 4,
   "metadata": {},
   "outputs": [
    {
     "name": "stdout",
     "output_type": "stream",
     "text": [
      "[{'uporabnisko_ime': 'marija', 'geslo': 'marija'}]\n",
      "marija\n"
     ]
    }
   ],
   "source": [
    "import bottle\n",
    "from bottle import route, run, template, request\n",
    "import json\n",
    "\n",
    "def registracija(): #isto ime kot pri prijavi?\n",
    "    ime = request.forms.get('ime')\n",
    "    geslo = request.forms.get('geslo')\n",
    "    nov_uporabnik = {\"uporabnisko_ime\": ime,\n",
    "        \"geslo\": geslo}\n",
    "    with open(\"uporabniki.json\") as d:\n",
    "        uporabniki = json.loads(d.read())\n",
    "    uporabniki.append(nov_uporabnik)\n",
    "    with open('uporabniki.json', 'w') as d:\n",
    "        json.dump(uporabniki, d)\n",
    "    for uporabnik in uporabniki:\n",
    "        if ime == uporabnik[\"uporabnisko_ime\"] and geslo == uporabnik[\"geslo\"]:\n",
    "            bottle.response.set_cookie('uporabnisko_ime', ime, path='/', secret=SKRIVNOST)\n",
    "            return bottle.redirect(\"/osebna_stran\")\n",
    "    else:\n",
    "        return bottle.template(\"tpl/napaka.tpl\")"
   ]
  },
  {
   "cell_type": "code",
   "execution_count": 43,
   "metadata": {},
   "outputs": [
    {
     "data": {
      "text/plain": [
       "'rtzui'"
      ]
     },
     "execution_count": 43,
     "metadata": {},
     "output_type": "execute_result"
    }
   ],
   "source": [
    "import bottle\n",
    "from bottle import route, run, template, request\n",
    "import json\n",
    "from random import choice\n",
    "\n",
    "def izberi_nakljucno_jed(ime_gospodinjstva):\n",
    "    with open(\"gospodinjstva.json\", encoding=\"utf8\") as d:\n",
    "        gospodinjstva = json.loads(d.read())\n",
    "    for gospodinjstvo in gospodinjstva:\n",
    "        if gospodinjstvo[\"ime_gospodinjstva\"] == ime_gospodinjstva:\n",
    "            jedi = gospodinjstvo[\"jedi\"]\n",
    "    obrok = choice(jedi)\n",
    "    return obrok\n",
    "\n",
    "izberi_nakljucno_jed(\"mj\")"
   ]
  },
  {
   "cell_type": "code",
   "execution_count": 61,
   "metadata": {},
   "outputs": [
    {
     "name": "stdout",
     "output_type": "stream",
     "text": [
      "izbira brez ponavljanja\n"
     ]
    },
    {
     "data": {
      "text/plain": [
       "['korenje', 'koleraba', 'krompir', 'palacinke', 'rizota', 'pica', 'jabolko']"
      ]
     },
     "execution_count": 61,
     "metadata": {},
     "output_type": "execute_result"
    }
   ],
   "source": [
    "import random\n",
    "\n",
    "jedi = [\"palacinke\", \"pica\", \"kebab\", \"kruh\", \"krompir\", \"rizota\", \"jajca\", \"koleraba\", \"korenje\", \"jabolko\"]\n",
    "izbor = []\n",
    "try:\n",
    "    print(\"izbira brez ponavljanja\")\n",
    "    izbor = random.sample(jedi, 7)\n",
    "except:\n",
    "    print(\"izbira s ponavljanjem\")\n",
    "    izbor = random.choices(jedi, k=7)\n",
    "izbor"
   ]
  },
  {
   "cell_type": "code",
   "execution_count": 72,
   "metadata": {},
   "outputs": [
    {
     "data": {
      "text/plain": [
       "['palacinke', 'jabolko', 'jabolko', 'jabolko', 'jabolko']"
      ]
     },
     "execution_count": 72,
     "metadata": {},
     "output_type": "execute_result"
    }
   ],
   "source": [
    "random.sample(jedi, counts=[10,0,0,0,0, 0,0,0,0,20], k=5)"
   ]
  },
  {
   "cell_type": "code",
   "execution_count": null,
   "metadata": {},
   "outputs": [],
   "source": [
    "a = \"test\"\n",
    "b = a\n",
    "b = \"nejc\"\n",
    "\n",
    "print(a)"
   ]
  }
 ],
 "metadata": {
  "interpreter": {
   "hash": "ae12963180ba79e0d4f08e40bc08059880b66eae72608cb520b73ab1696d4680"
  },
  "kernelspec": {
   "display_name": "Python 3.10.5 64-bit (windows store)",
   "language": "python",
   "name": "python3"
  },
  "language_info": {
   "codemirror_mode": {
    "name": "ipython",
    "version": 3
   },
   "file_extension": ".py",
   "mimetype": "text/x-python",
   "name": "python",
   "nbconvert_exporter": "python",
   "pygments_lexer": "ipython3",
   "version": "3.10.5"
  },
  "orig_nbformat": 4
 },
 "nbformat": 4,
 "nbformat_minor": 2
}
